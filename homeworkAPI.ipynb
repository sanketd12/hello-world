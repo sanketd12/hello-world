{
  "nbformat": 4,
  "nbformat_minor": 0,
  "metadata": {
    "colab": {
      "provenance": []
    },
    "kernelspec": {
      "name": "python3",
      "display_name": "Python 3"
    },
    "language_info": {
      "name": "python"
    }
  },
  "cells": [
    {
      "cell_type": "code",
      "execution_count": null,
      "metadata": {
        "id": "1cxMa4K6zR_E"
      },
      "outputs": [],
      "source": [
        "import requests\n",
        "import pandas as pd\n",
        "import json\n",
        "import os"
      ]
    },
    {
      "cell_type": "code",
      "source": [
        "name = input('Input a country name: ').lower()\n",
        "\n",
        "url = f\"https://restcountries.com/v3.1/name/{name}?fields=capital,population\"\n",
        "headers = {\n",
        "    \"Accept\": \"application/json\",\n",
        "    \"Content-Type\": \"application/json\"\n",
        "}\n",
        "\n",
        "\n",
        "response = requests.get(url, headers = headers)\n",
        "\n",
        "if response.status_code == 200:\n",
        "  countryData = response.json()\n",
        "\n",
        "\n",
        "\n",
        "\n",
        "  data = {\"Name\": [name.capitalize()],\n",
        "  \"Capital\" : [countryData[0]['capital'][0]],\n",
        "  \"Population\" : [countryData[0]['population']]}\n",
        "  newDf = pd.DataFrame(data)\n",
        "\n",
        "  jsonFilePath = \"countryData.json\"\n",
        "\n",
        "  if os.path.exists(jsonFilePath):\n",
        "    existingDf = pd.read_json(jsonFilePath, orient='records', lines=True)\n",
        "    if not existingDf['Name'].str.lower().str.contains(name).any(): #ignore duplicate cases\n",
        "            updatedDf = pd.concat([existingDf, newDf], ignore_index=True) #append to df\n",
        "    else:\n",
        "            updatedDf = existingDf\n",
        "  else:\n",
        "        updatedDf = newDf\n",
        "\n",
        "\n",
        "  updatedDf.to_json(jsonFilePath, orient='records', lines=True, force_ascii=False)\n",
        "  print(f\"{name.capitalize()} has been written to {jsonFilePath}\")\n",
        "  print(updatedDf[['Name', 'Capital', 'Population']])\n",
        "\n",
        "\n",
        "\n",
        "\n",
        "else:\n",
        "  print('Error:', response.status_code)"
      ],
      "metadata": {
        "colab": {
          "base_uri": "https://localhost:8080/"
        },
        "id": "r5XW7Xmy1LG9",
        "outputId": "da1cc527-441a-4ca5-9402-7b5322af0008"
      },
      "execution_count": 74,
      "outputs": [
        {
          "output_type": "stream",
          "name": "stdout",
          "text": [
            "Input a country name: Mexico\n",
            "Mexico has been written to countryData.json\n",
            "     Name      Capital  Population\n",
            "0   Spain       Madrid    47351567\n",
            "1  France        Paris    67391582\n",
            "2  Mexico  Mexico City   128932753\n"
          ]
        }
      ]
    },
    {
      "cell_type": "code",
      "source": [],
      "metadata": {
        "id": "R1E8oTLgORZd"
      },
      "execution_count": null,
      "outputs": []
    }
  ]
}
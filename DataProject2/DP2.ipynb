{
 "cells": [
  {
   "cell_type": "code",
   "execution_count": null,
   "id": "f3131305-cfae-4ac7-8e7b-6f739f969945",
   "metadata": {},
   "outputs": [
    {
     "name": "stderr",
     "output_type": "stream",
     "text": [
      "[2024-05-04 21:00:51] [INFO    ] discord.client: logging in using static token\n",
      "[2024-05-04 21:00:51] [INFO    ] discord.client: logging in using static token\n",
      "[2024-05-04 21:00:51] [INFO    ] discord.client: logging in using static token\n",
      "[2024-05-04 21:00:51] [INFO    ] discord.client: logging in using static token\n",
      "[2024-05-04 21:00:51] [INFO    ] discord.client: logging in using static token\n",
      "[2024-05-04 21:00:52] [INFO    ] discord.gateway: Shard ID None has connected to Gateway (Session ID: 2006b39f8049b3eb89b2ed932a20c46e).\n",
      "[2024-05-04 21:00:52] [INFO    ] discord.gateway: Shard ID None has connected to Gateway (Session ID: 2006b39f8049b3eb89b2ed932a20c46e).\n",
      "[2024-05-04 21:00:52] [INFO    ] discord.gateway: Shard ID None has connected to Gateway (Session ID: 2006b39f8049b3eb89b2ed932a20c46e).\n",
      "[2024-05-04 21:00:52] [INFO    ] discord.gateway: Shard ID None has connected to Gateway (Session ID: 2006b39f8049b3eb89b2ed932a20c46e).\n",
      "[2024-05-04 21:00:52] [INFO    ] discord.gateway: Shard ID None has connected to Gateway (Session ID: 2006b39f8049b3eb89b2ed932a20c46e).\n"
     ]
    },
    {
     "name": "stdout",
     "output_type": "stream",
     "text": [
      "Logged in as Final Project Bot\n"
     ]
    }
   ],
   "source": [
    "# I worked on this with Sanket Doddabendigere\n",
    "\n",
    "import discord\n",
    "from discord.ext import commands\n",
    "import requests\n",
    "import nest_asyncio\n",
    "\n",
    "\n",
    "nest_asyncio.apply()\n",
    "\n",
    "intents = discord.Intents.default()\n",
    "intents.messages = True\n",
    "intents.guilds = True\n",
    "intents.message_content = True\n",
    "\n",
    "bot = commands.Bot(command_prefix='!', intents=intents, help_command=None)\n",
    "\n",
    "@bot.event\n",
    "async def on_ready():\n",
    "    print(f'Logged in as {bot.user.name}')\n",
    "    \n",
    "@bot.command(name='language', help='Fetches the languages spoken in a country. Usage: !language [country name]')\n",
    "async def fetch_language(ctx, *, country: str):\n",
    "    response = requests.get(f'https://restcountries.com/v3.1/name/{country}')\n",
    "    if response.status_code == 200:\n",
    "        data = response.json()[0]\n",
    "        languages = data.get('languages', {})\n",
    "        if languages:\n",
    "            language_list = ', '.join(languages.values())\n",
    "            await ctx.send(f\"The official languages of {data['name']['common']} are: {language_list}.\")\n",
    "        else:\n",
    "            await ctx.send('Language information not available.')\n",
    "    else:\n",
    "        await ctx.send('Could not fetch language data.')\n",
    "\n",
    "@bot.command(name='currency', help='Fetches the currency of a country. Usage: !currency [country name]')\n",
    "async def fetch_currency(ctx, *, country: str):\n",
    "    response = requests.get(f'https://restcountries.com/v3.1/name/{country}')\n",
    "    if response.status_code == 200:\n",
    "        data = response.json()[0]\n",
    "        currencies = data.get('currencies', {})\n",
    "        if currencies:\n",
    "            currency_details = ', '.join([f\"{cur['name']} ({cur['symbol']})\" for code, cur in currencies.items()])\n",
    "            await ctx.send(f\"The currency of {data['name']['common']} is {currency_details}.\")\n",
    "        else:\n",
    "            await ctx.send('Currency information not available.')\n",
    "    else:\n",
    "        await ctx.send('Could not fetch currency data.')\n",
    "\n",
    "@bot.command(name='country', help='Fetches information about a country. Usage: !country [country name]')\n",
    "async def fetch_country(ctx, *, country: str):\n",
    "    response = requests.get(f'https://restcountries.com/v3.1/name/{country}')\n",
    "    if response.status_code == 200:\n",
    "        data = response.json()[0]\n",
    "        await ctx.send(f\"Country: {data['name']['common']} - Capital: {data['capital'][0]} - Population: {data['population']}\")\n",
    "    else:\n",
    "        await ctx.send('Could not fetch country data.')\n",
    "\n",
    "@bot.command(name='help', help='Displays this message')\n",
    "async def help_command(ctx):\n",
    "    help_text = \"Here are the commands you can use:\\n\"\n",
    "    for command in bot.commands:\n",
    "        help_text += f\"!{command} - {command.help}\\n\"\n",
    "    await ctx.send(help_text)\n",
    "\n",
    "\n",
    "bot.run('MTIzNjQ3NTE4MTQ3MjQxOTkyMg.Go4xcE.QPbKdc5zg5QYSKDPFb72pUu_4nxDu_cvzRunqg')\n"
   ]
  },
  {
   "cell_type": "code",
   "execution_count": null,
   "id": "28b9680f-5c28-49e9-9799-491f01d1b20a",
   "metadata": {},
   "outputs": [],
   "source": []
  }
 ],
 "metadata": {
  "kernelspec": {
   "display_name": "Python 3 (ipykernel)",
   "language": "python",
   "name": "python3"
  },
  "language_info": {
   "codemirror_mode": {
    "name": "ipython",
    "version": 3
   },
   "file_extension": ".py",
   "mimetype": "text/x-python",
   "name": "python",
   "nbconvert_exporter": "python",
   "pygments_lexer": "ipython3",
   "version": "3.12.2"
  }
 },
 "nbformat": 4,
 "nbformat_minor": 5
}
